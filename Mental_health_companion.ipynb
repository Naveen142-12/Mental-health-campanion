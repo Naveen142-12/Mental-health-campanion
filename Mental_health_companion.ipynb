{
  "nbformat": 4,
  "nbformat_minor": 0,
  "metadata": {
    "colab": {
      "provenance": [],
      "toc_visible": true,
      "authorship_tag": "ABX9TyNOOPjAPOP+1CaobJntWl/e",
      "include_colab_link": true
    },
    "kernelspec": {
      "name": "python3",
      "display_name": "Python 3"
    },
    "language_info": {
      "name": "python"
    }
  },
  "cells": [
    {
      "cell_type": "markdown",
      "metadata": {
        "id": "view-in-github",
        "colab_type": "text"
      },
      "source": [
        "<a href=\"https://colab.research.google.com/github/Naveen142-12/Mental-health-campanion/blob/main/Mental_health_companion.ipynb\" target=\"_parent\"><img src=\"https://colab.research.google.com/assets/colab-badge.svg\" alt=\"Open In Colab\"/></a>"
      ]
    },
    {
      "cell_type": "code",
      "source": [],
      "metadata": {
        "id": "9jRb5zF0pVL5"
      },
      "execution_count": null,
      "outputs": []
    },
    {
      "cell_type": "code",
      "source": [
        "!pip install groq gradio gtts speechrecognition pydub"
      ],
      "metadata": {
        "colab": {
          "base_uri": "https://localhost:8080/"
        },
        "id": "CWDiWYUBlz_m",
        "outputId": "c8c2d52f-be39-4dd7-e5e0-b07158c4d384"
      },
      "execution_count": 2,
      "outputs": [
        {
          "output_type": "stream",
          "name": "stdout",
          "text": [
            "Requirement already satisfied: groq in /usr/local/lib/python3.11/dist-packages (0.22.0)\n",
            "Requirement already satisfied: gradio in /usr/local/lib/python3.11/dist-packages (5.25.2)\n",
            "Requirement already satisfied: gtts in /usr/local/lib/python3.11/dist-packages (2.5.4)\n",
            "Collecting speechrecognition\n",
            "  Downloading speechrecognition-3.14.2-py3-none-any.whl.metadata (30 kB)\n",
            "Requirement already satisfied: pydub in /usr/local/lib/python3.11/dist-packages (0.25.1)\n",
            "Requirement already satisfied: anyio<5,>=3.5.0 in /usr/local/lib/python3.11/dist-packages (from groq) (4.9.0)\n",
            "Requirement already satisfied: distro<2,>=1.7.0 in /usr/local/lib/python3.11/dist-packages (from groq) (1.9.0)\n",
            "Requirement already satisfied: httpx<1,>=0.23.0 in /usr/local/lib/python3.11/dist-packages (from groq) (0.28.1)\n",
            "Requirement already satisfied: pydantic<3,>=1.9.0 in /usr/local/lib/python3.11/dist-packages (from groq) (2.11.3)\n",
            "Requirement already satisfied: sniffio in /usr/local/lib/python3.11/dist-packages (from groq) (1.3.1)\n",
            "Requirement already satisfied: typing-extensions<5,>=4.10 in /usr/local/lib/python3.11/dist-packages (from groq) (4.13.1)\n",
            "Requirement already satisfied: aiofiles<25.0,>=22.0 in /usr/local/lib/python3.11/dist-packages (from gradio) (24.1.0)\n",
            "Requirement already satisfied: fastapi<1.0,>=0.115.2 in /usr/local/lib/python3.11/dist-packages (from gradio) (0.115.12)\n",
            "Requirement already satisfied: ffmpy in /usr/local/lib/python3.11/dist-packages (from gradio) (0.5.0)\n",
            "Requirement already satisfied: gradio-client==1.8.0 in /usr/local/lib/python3.11/dist-packages (from gradio) (1.8.0)\n",
            "Requirement already satisfied: groovy~=0.1 in /usr/local/lib/python3.11/dist-packages (from gradio) (0.1.2)\n",
            "Requirement already satisfied: huggingface-hub>=0.28.1 in /usr/local/lib/python3.11/dist-packages (from gradio) (0.30.2)\n",
            "Requirement already satisfied: jinja2<4.0 in /usr/local/lib/python3.11/dist-packages (from gradio) (3.1.6)\n",
            "Requirement already satisfied: markupsafe<4.0,>=2.0 in /usr/local/lib/python3.11/dist-packages (from gradio) (3.0.2)\n",
            "Requirement already satisfied: numpy<3.0,>=1.0 in /usr/local/lib/python3.11/dist-packages (from gradio) (2.0.2)\n",
            "Requirement already satisfied: orjson~=3.0 in /usr/local/lib/python3.11/dist-packages (from gradio) (3.10.16)\n",
            "Requirement already satisfied: packaging in /usr/local/lib/python3.11/dist-packages (from gradio) (24.2)\n",
            "Requirement already satisfied: pandas<3.0,>=1.0 in /usr/local/lib/python3.11/dist-packages (from gradio) (2.2.2)\n",
            "Requirement already satisfied: pillow<12.0,>=8.0 in /usr/local/lib/python3.11/dist-packages (from gradio) (11.1.0)\n",
            "Requirement already satisfied: python-multipart>=0.0.18 in /usr/local/lib/python3.11/dist-packages (from gradio) (0.0.20)\n",
            "Requirement already satisfied: pyyaml<7.0,>=5.0 in /usr/local/lib/python3.11/dist-packages (from gradio) (6.0.2)\n",
            "Requirement already satisfied: ruff>=0.9.3 in /usr/local/lib/python3.11/dist-packages (from gradio) (0.11.6)\n",
            "Requirement already satisfied: safehttpx<0.2.0,>=0.1.6 in /usr/local/lib/python3.11/dist-packages (from gradio) (0.1.6)\n",
            "Requirement already satisfied: semantic-version~=2.0 in /usr/local/lib/python3.11/dist-packages (from gradio) (2.10.0)\n",
            "Requirement already satisfied: starlette<1.0,>=0.40.0 in /usr/local/lib/python3.11/dist-packages (from gradio) (0.46.2)\n",
            "Requirement already satisfied: tomlkit<0.14.0,>=0.12.0 in /usr/local/lib/python3.11/dist-packages (from gradio) (0.13.2)\n",
            "Requirement already satisfied: typer<1.0,>=0.12 in /usr/local/lib/python3.11/dist-packages (from gradio) (0.15.2)\n",
            "Requirement already satisfied: uvicorn>=0.14.0 in /usr/local/lib/python3.11/dist-packages (from gradio) (0.34.1)\n",
            "Requirement already satisfied: fsspec in /usr/local/lib/python3.11/dist-packages (from gradio-client==1.8.0->gradio) (2025.3.2)\n",
            "Requirement already satisfied: websockets<16.0,>=10.0 in /usr/local/lib/python3.11/dist-packages (from gradio-client==1.8.0->gradio) (15.0.1)\n",
            "Requirement already satisfied: requests<3,>=2.27 in /usr/local/lib/python3.11/dist-packages (from gtts) (2.32.3)\n",
            "Requirement already satisfied: click<8.2,>=7.1 in /usr/local/lib/python3.11/dist-packages (from gtts) (8.1.8)\n",
            "Requirement already satisfied: idna>=2.8 in /usr/local/lib/python3.11/dist-packages (from anyio<5,>=3.5.0->groq) (3.10)\n",
            "Requirement already satisfied: certifi in /usr/local/lib/python3.11/dist-packages (from httpx<1,>=0.23.0->groq) (2025.1.31)\n",
            "Requirement already satisfied: httpcore==1.* in /usr/local/lib/python3.11/dist-packages (from httpx<1,>=0.23.0->groq) (1.0.7)\n",
            "Requirement already satisfied: h11<0.15,>=0.13 in /usr/local/lib/python3.11/dist-packages (from httpcore==1.*->httpx<1,>=0.23.0->groq) (0.14.0)\n",
            "Requirement already satisfied: filelock in /usr/local/lib/python3.11/dist-packages (from huggingface-hub>=0.28.1->gradio) (3.18.0)\n",
            "Requirement already satisfied: tqdm>=4.42.1 in /usr/local/lib/python3.11/dist-packages (from huggingface-hub>=0.28.1->gradio) (4.67.1)\n",
            "Requirement already satisfied: python-dateutil>=2.8.2 in /usr/local/lib/python3.11/dist-packages (from pandas<3.0,>=1.0->gradio) (2.8.2)\n",
            "Requirement already satisfied: pytz>=2020.1 in /usr/local/lib/python3.11/dist-packages (from pandas<3.0,>=1.0->gradio) (2025.2)\n",
            "Requirement already satisfied: tzdata>=2022.7 in /usr/local/lib/python3.11/dist-packages (from pandas<3.0,>=1.0->gradio) (2025.2)\n",
            "Requirement already satisfied: annotated-types>=0.6.0 in /usr/local/lib/python3.11/dist-packages (from pydantic<3,>=1.9.0->groq) (0.7.0)\n",
            "Requirement already satisfied: pydantic-core==2.33.1 in /usr/local/lib/python3.11/dist-packages (from pydantic<3,>=1.9.0->groq) (2.33.1)\n",
            "Requirement already satisfied: typing-inspection>=0.4.0 in /usr/local/lib/python3.11/dist-packages (from pydantic<3,>=1.9.0->groq) (0.4.0)\n",
            "Requirement already satisfied: charset-normalizer<4,>=2 in /usr/local/lib/python3.11/dist-packages (from requests<3,>=2.27->gtts) (3.4.1)\n",
            "Requirement already satisfied: urllib3<3,>=1.21.1 in /usr/local/lib/python3.11/dist-packages (from requests<3,>=2.27->gtts) (2.3.0)\n",
            "Requirement already satisfied: shellingham>=1.3.0 in /usr/local/lib/python3.11/dist-packages (from typer<1.0,>=0.12->gradio) (1.5.4)\n",
            "Requirement already satisfied: rich>=10.11.0 in /usr/local/lib/python3.11/dist-packages (from typer<1.0,>=0.12->gradio) (13.9.4)\n",
            "Requirement already satisfied: six>=1.5 in /usr/local/lib/python3.11/dist-packages (from python-dateutil>=2.8.2->pandas<3.0,>=1.0->gradio) (1.17.0)\n",
            "Requirement already satisfied: markdown-it-py>=2.2.0 in /usr/local/lib/python3.11/dist-packages (from rich>=10.11.0->typer<1.0,>=0.12->gradio) (3.0.0)\n",
            "Requirement already satisfied: pygments<3.0.0,>=2.13.0 in /usr/local/lib/python3.11/dist-packages (from rich>=10.11.0->typer<1.0,>=0.12->gradio) (2.18.0)\n",
            "Requirement already satisfied: mdurl~=0.1 in /usr/local/lib/python3.11/dist-packages (from markdown-it-py>=2.2.0->rich>=10.11.0->typer<1.0,>=0.12->gradio) (0.1.2)\n",
            "Downloading speechrecognition-3.14.2-py3-none-any.whl (32.9 MB)\n",
            "\u001b[2K   \u001b[90m━━━━━━━━━━━━━━━━━━━━━━━━━━━━━━━━━━━━━━━━\u001b[0m \u001b[32m32.9/32.9 MB\u001b[0m \u001b[31m53.7 MB/s\u001b[0m eta \u001b[36m0:00:00\u001b[0m\n",
            "\u001b[?25hInstalling collected packages: speechrecognition\n",
            "Successfully installed speechrecognition-3.14.2\n"
          ]
        }
      ]
    },
    {
      "cell_type": "code",
      "source": [
        "import tempfile\n",
        "import gradio as gr\n",
        "from gtts import gTTS\n",
        "import groq\n",
        "import speech_recognition as sr\n",
        "from pydub import AudioSegment\n",
        "import time\n",
        "import os\n",
        "\n",
        "# Init Groq client\n",
        "client = groq.Groq(api_key=\"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\")  # Replace with your Groq key\n",
        "\n",
        "# Initialize speech recognizer\n",
        "recognizer = sr.Recognizer()\n",
        "\n",
        "def speech_to_text(audio_path):\n",
        "    try:\n",
        "        # Check if audio file exists and has content\n",
        "        if not audio_path or not os.path.exists(audio_path) or os.path.getsize(audio_path) == 0:\n",
        "            return \"\"\n",
        "\n",
        "        # Convert to WAV format\n",
        "        audio = AudioSegment.from_file(audio_path)\n",
        "        with tempfile.NamedTemporaryFile(suffix=\".wav\", delete=False) as wav_file:\n",
        "            temp_wav = wav_file.name\n",
        "            audio.export(temp_wav, format=\"wav\")\n",
        "\n",
        "            # Verify the converted file\n",
        "            if os.path.getsize(temp_wav) == 0:\n",
        "                return \"\"\n",
        "\n",
        "            with sr.AudioFile(temp_wav) as source:\n",
        "                # Adjust for ambient noise and record\n",
        "                recognizer.adjust_for_ambient_noise(source)\n",
        "                audio_data = recognizer.record(source)\n",
        "                text = recognizer.recognize_google(audio_data)\n",
        "                return text\n",
        "    except Exception as e:\n",
        "        print(f\"Speech recognition error: {str(e)}\")\n",
        "        return \"\"\n",
        "\n",
        "def chatbot_response(audio_input, text_input, history, voice_enabled):\n",
        "    time.sleep(0.3)  # Small delay for stability\n",
        "\n",
        "    # Get message from either input\n",
        "    message = text_input if text_input else speech_to_text(audio_input)\n",
        "    if not message.strip():\n",
        "        return None, \"\", history, history, None\n",
        "\n",
        "    # Get AI response\n",
        "    response = client.chat.completions.create(\n",
        "        model=\"llama3-8b-8192\",\n",
        "        messages=[\n",
        "            {\"role\": \"system\", \"content\": \"You are a cheerful, caring best friend. Talk like a human buddy. Respond warmly to emotional statements like 'I feel anxious', giving comforting words and easy ideas.\"},\n",
        "            {\"role\": \"user\", \"content\": message}\n",
        "        ]\n",
        "    )\n",
        "\n",
        "    reply = response.choices[0].message.content.strip()\n",
        "    history.append((message, reply))\n",
        "\n",
        "    # Generate voice response if enabled\n",
        "    audio_path = None\n",
        "    if voice_enabled:\n",
        "        try:\n",
        "            tts = gTTS(text=reply, lang=\"en\", slow=False)\n",
        "            with tempfile.NamedTemporaryFile(suffix=\".mp3\", delete=False) as fp:\n",
        "                audio_path = fp.name\n",
        "                tts.save(audio_path)\n",
        "                time.sleep(0.2)  # Ensure file is fully written\n",
        "        except Exception as e:\n",
        "            print(f\"Voice generation error: {e}\")\n",
        "\n",
        "    return None, \"\", history, history, audio_path\n",
        "\n",
        "# Full-width UI\n",
        "css = \"\"\"\n",
        ".gradio-container {\n",
        "    max-width: 100% !important;\n",
        "    padding: 20px !important;\n",
        "}\n",
        "#chatbot {\n",
        "    min-height: 400px;\n",
        "    width: 100% !important;\n",
        "}\n",
        ".control-row {\n",
        "    margin-top: 15px;\n",
        "    gap: 10px;\n",
        "}\n",
        ".tab-content {\n",
        "    padding: 15px 0;\n",
        "}\n",
        "\"\"\"\n",
        "\n",
        "with gr.Blocks(theme=gr.themes.Soft(), css=css) as demo:\n",
        "    gr.Markdown(\"\"\"\n",
        "    <div style=\"text-align: center;\">\n",
        "        <h1>🤖 Mental Health Companion</h1>\n",
        "        <p><i>Your friendly AI buddy here to listen and support you</i></p>\n",
        "    </div>\n",
        "    \"\"\")\n",
        "\n",
        "    # Chat interface\n",
        "    chatbot = gr.Chatbot(elem_id=\"chatbot\", height=400)\n",
        "\n",
        "    # Input tabs\n",
        "    with gr.Tabs():\n",
        "        with gr.Tab(\"🎤 Voice Input\"):\n",
        "            audio_input = gr.Audio(\n",
        "                sources=[\"microphone\"],\n",
        "                type=\"filepath\",\n",
        "                label=\"Speak your feelings (click to record)\",\n",
        "                interactive=True,\n",
        "                show_download_button=False\n",
        "            )\n",
        "        with gr.Tab(\"✏️ Text Input\"):\n",
        "            text_input = gr.Textbox(\n",
        "                placeholder=\"How are you feeling today?\",\n",
        "                label=\"Your Message\",\n",
        "                lines=3,\n",
        "                container=False,\n",
        "                autofocus=True\n",
        "            )\n",
        "\n",
        "    # Controls\n",
        "    with gr.Row():\n",
        "        submit_btn = gr.Button(\"Send\", variant=\"primary\", scale=1)\n",
        "        clear_btn = gr.Button(\"Clear Chat\", scale=1)\n",
        "        voice_enabled = gr.Checkbox(\n",
        "            label=\"Enable Voice Responses\",\n",
        "            value=True,\n",
        "            scale=0,\n",
        "            interactive=True\n",
        "        )\n",
        "\n",
        "    audio_output = gr.Audio(\n",
        "        label=\"AI Response\",\n",
        "        autoplay=True,\n",
        "        visible=True,\n",
        "        interactive=False\n",
        "    )\n",
        "    state = gr.State([])\n",
        "\n",
        "    # Event handlers\n",
        "    submit_btn.click(\n",
        "        chatbot_response,\n",
        "        [audio_input, text_input, state, voice_enabled],\n",
        "        [audio_input, text_input, chatbot, state, audio_output]\n",
        "    )\n",
        "\n",
        "    clear_btn.click(\n",
        "        lambda: (None, \"\", [], [], None),\n",
        "        None,\n",
        "        [audio_input, text_input, chatbot, state, audio_output]\n",
        "    )\n",
        "\n",
        "demo.launch(debug=True)"
      ],
      "metadata": {
        "id": "ve74tH2_waX_",
        "colab": {
          "base_uri": "https://localhost:8080/",
          "height": 680
        },
        "outputId": "e1b76828-5555-4148-c274-d7ccec592225"
      },
      "execution_count": null,
      "outputs": [
        {
          "metadata": {
            "tags": null
          },
          "name": "stderr",
          "output_type": "stream",
          "text": [
            "<ipython-input-3-bcd9e354a5d1>:104: UserWarning: You have not specified a value for the `type` parameter. Defaulting to the 'tuples' format for chatbot messages, but this is deprecated and will be removed in a future version of Gradio. Please set type='messages' instead, which uses openai-style dictionaries with 'role' and 'content' keys.\n",
            "  chatbot = gr.Chatbot(elem_id=\"chatbot\", height=400)\n"
          ]
        },
        {
          "metadata": {
            "tags": null
          },
          "name": "stdout",
          "output_type": "stream",
          "text": [
            "It looks like you are running Gradio on a hosted a Jupyter notebook. For the Gradio app to work, sharing must be enabled. Automatically setting `share=True` (you can turn this off by setting `share=False` in `launch()` explicitly).\n",
            "\n",
            "Colab notebook detected. This cell will run indefinitely so that you can see errors and logs. To turn off, set debug=False in launch().\n",
            "* Running on public URL: https://225b49d65cb7544297.gradio.live\n",
            "\n",
            "This share link expires in 1 week. For free permanent hosting and GPU upgrades, run `gradio deploy` from the terminal in the working directory to deploy to Hugging Face Spaces (https://huggingface.co/spaces)\n"
          ]
        },
        {
          "data": {
            "text/html": [
              "<div><iframe src=\"https://225b49d65cb7544297.gradio.live\" width=\"100%\" height=\"500\" allow=\"autoplay; camera; microphone; clipboard-read; clipboard-write;\" frameborder=\"0\" allowfullscreen></iframe></div>"
            ],
            "text/plain": [
              "<IPython.core.display.HTML object>"
            ]
          },
          "metadata": {},
          "output_type": "display_data"
        }
      ]
    },
    {
      "cell_type": "code",
      "source": [],
      "metadata": {
        "id": "bstWHrCDl86F"
      },
      "execution_count": null,
      "outputs": []
    }
  ]
}